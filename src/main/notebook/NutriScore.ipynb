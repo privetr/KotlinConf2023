{
 "cells": [
  {
   "cell_type": "code",
   "execution_count": null,
   "metadata": {
    "collapsed": true,
    "ExecuteTime": {
     "start_time": "2023-04-21T17:12:32.548019Z",
     "end_time": "2023-04-21T17:12:33.563131Z"
    }
   },
   "outputs": [],
   "source": [
    "// Mes imports de librairies externes\n",
    "\n",
    "USE {\n",
    "    repositories {\n",
    "        //google()\n",
    "        // à exécuter en dehors du proxy sinon KO\n",
    "        mavenCentral()\n",
    "        //maven(\"https://artifactory.mycloud.intrabpce.fr/artifactory/g-android-maven-proxy/\")\n",
    "        //maven(\"https://artifactory.mycloud.intrabpce.fr/artifactory/maven-third-party-android-libs/\")\n",
    "    }\n",
    "    dependencies {\n",
    "        val ktor_version = \"2.2.4\"\n",
    "        implementation(\"io.ktor:ktor-client-apache-jvm:$ktor_version\")\n",
    "        implementation(\"io.ktor:ktor-serialization-kotlinx-json:$ktor_version\")\n",
    "    }\n",
    "}"
   ]
  },
  {
   "cell_type": "code",
   "execution_count": null,
   "outputs": [],
   "source": [
    "\n",
    "import io.ktor.client.*\n",
    "import io.ktor.client.request.*\n",
    "import io.ktor.client.statement.*\n",
    "import kotlinx.coroutines.runBlocking\n",
    "\n",
    "val client = HttpClient()\n",
    "runBlocking {\n",
    "    client.get(\"https://google.com\").bodyAsText()\n",
    " }"
   ],
   "metadata": {
    "collapsed": false,
    "ExecuteTime": {
     "start_time": "2023-04-21T17:12:33.538539Z",
     "end_time": "2023-04-21T17:12:34.863870Z"
    }
   }
  },
  {
   "cell_type": "code",
   "execution_count": 33,
   "outputs": [],
   "source": [
    "import io.ktor.client.engine.apache.*\n",
    "import io.ktor.client.*\n",
    "import io.ktor.client.plugins.*\n",
    "import io.ktor.client.request.*\n",
    "import io.ktor.client.statement.*\n",
    "import io.ktor.http.*\n",
    "import kotlinx.serialization.SerialName\n",
    "import kotlinx.serialization.Serializable\n",
    "import kotlinx.serialization.decodeFromString\n",
    "import kotlinx.serialization.json.Json\n",
    "\n",
    "@Serializable\n",
    "data class SearchProductList(\n",
    "    @SerialName(\"products\") val products: List<ProductDetail>? = null\n",
    ")\n",
    "\n",
    "@Serializable\n",
    "data class Product(\n",
    "    @SerialName(\"code\") val productId: String? = null,\n",
    "    @SerialName(\"product\") val productDetail: ProductDetail? = null,\n",
    ")\n",
    "\n",
    "@Serializable\n",
    "data class ProductDetail(\n",
    "    @SerialName(\"code\") val code: String = \"\",\n",
    "    @SerialName(\"product_name_fr\") val label: String = \"\",\n",
    "    @SerialName(\"ingredients_text\") val ingredientsText: String = \"\",\n",
    "    @SerialName(\"ingredients_text_fr\") val ingredientsTextFr: String = \"\",\n",
    "    @SerialName(\"generic_name_fr\") val genericName: String = \"\",\n",
    "    @SerialName(\"image_url\") val imageUrl: String = \"\",\n",
    "    @SerialName(\"nutrition_grade_fr\") val nutriScore: String = \"\",\n",
    "    @SerialName(\"ecoscore_grade\") val ecoScore: String = \"\",\n",
    "    @SerialName(\"ecoscore_score\") val ecoScoreValue: String = \"\"\n",
    ")\n",
    "\n",
    "class NutriScoreApp() {\n",
    "    val jsonFormatter = Json { ignoreUnknownKeys = true }\n",
    "\n",
    "    suspend fun getProduct(productId: String): Product {\n",
    "        val client = getHttpClient()\n",
    "        val getProductUrl = \"https://fr.openfoodfacts.org/api/v0/produit/$productId.json\"\n",
    "        val productText = client.get(getProductUrl + FIELDS).bodyAsText()\n",
    "        val product: Product = jsonFormatter.decodeFromString(productText)\n",
    "        client.close()\n",
    "        return product\n",
    "    }\n",
    "\n",
    "    suspend fun searchProductsJson(search: String): String {\n",
    "        val client = getHttpClient()\n",
    "        val searchProductUrl = \"https://ssl-api.openfoodfacts.org/cgi/search.pl?search_simple=1&amp;json=1&amp;action=process&amp;sort_by=unique_scans_n\"\n",
    "        val extraParams = \"&amp;search_terms=${search.encodeURLPath()}&amp;page=1\"\n",
    "        val searchText = client.get(searchProductUrl + FIELDS + extraParams).bodyAsText()\n",
    "        return searchText\n",
    "    }\n",
    "\n",
    "    suspend fun searchProducts(search: String): List<ProductDetail> {\n",
    "        val searchResult: SearchProductList = jsonFormatter.decodeFromString(searchProductsJson(search))\n",
    "        client.close()\n",
    "        return searchResult.products.orEmpty()\n",
    "    }\n",
    "\n",
    "    private fun getHttpClient() = HttpClient {\n",
    "            install(HttpTimeout) {\n",
    "                requestTimeoutMillis = 30000\n",
    "            }\n",
    "        }\n",
    "\n",
    "    companion object {\n",
    "        const val FIELDS = \"&amp;fields=selected_images,image_url,product_name,brands,quantity,code,nutrition_grade_fr,ecoscore_grade,product_name_fr,nova_groups,allergens_tags,additives_tags,ingredients_from_palm_oil_n,carbon-footprint-from-known-ingredients_product,carbon-footprint-from-meat-or-fish_product,nutriments\"\n",
    "    }\n",
    "}"
   ],
   "metadata": {
    "collapsed": false,
    "ExecuteTime": {
     "start_time": "2023-04-21T17:40:57.062903Z",
     "end_time": "2023-04-21T17:40:57.580641Z"
    }
   }
  },
  {
   "cell_type": "code",
   "execution_count": null,
   "outputs": [],
   "source": [
    "import kotlinx.coroutines.runBlocking\n",
    "\n",
    "// Exemple de produit :\n",
    "// Gâteaux au chocolat : 3175681134935\n",
    "runBlocking {\n",
    "    val nutriScoreApp = NutriScoreApp()\n",
    "    val product = nutriScoreApp.getProduct(\"3175681134935\")\n",
    "    HTML(\n",
    "        \"<h2>${product.productDetail?.label}</h2><br>\" +\n",
    "                \"<img src='${product.productDetail?.imageUrl}'/>\"\n",
    "    )\n",
    "}\n"
   ],
   "metadata": {
    "collapsed": false,
    "ExecuteTime": {
     "start_time": "2023-04-21T17:20:47.652811Z",
     "end_time": "2023-04-21T17:20:47.921408Z"
    }
   }
  },
  {
   "cell_type": "code",
   "execution_count": 34,
   "outputs": [
    {
     "name": "stdout",
     "output_type": "stream",
     "text": [
      "[ProductDetail(code=3017620422003, label=Pâte à tartiner Nutella noisettes et cacao, ingredientsText=, ingredientsTextFr=, genericName=, imageUrl=https://images.openfoodfacts.org/images/products/301/762/042/2003/front_en.502.400.jpg, nutriScore=e, ecoScore=d, ecoScoreValue=), ProductDetail(code=3017620425035, label=Nutella, ingredientsText=, ingredientsTextFr=, genericName=, imageUrl=https://images.openfoodfacts.org/images/products/301/762/042/5035/front_en.397.400.jpg, nutriScore=e, ecoScore=d, ecoScoreValue=), ProductDetail(code=8001505005592, label=Nocciolata Pâte à tartiner au cacao et noisettes, ingredientsText=, ingredientsTextFr=, genericName=, imageUrl=https://images.openfoodfacts.org/images/products/800/150/500/5592/front_fr.133.400.jpg, nutriScore=d, ecoScore=c, ecoScoreValue=), ProductDetail(code=3608580065340, label=Pâte à tartiner noisettes et cacao, ingredientsText=, ingredientsTextFr=, genericName=, imageUrl=https://images.openfoodfacts.org/images/products/360/858/006/5340/front_fr.8.400.jpg, nutriScore=d, ecoScore=c, ecoScoreValue=), ProductDetail(code=3017620429484, label=Pâte à tartiner Nutella noisettes et cacao - 825g, ingredientsText=, ingredientsTextFr=, genericName=, imageUrl=https://images.openfoodfacts.org/images/products/301/762/042/9484/front_en.341.400.jpg, nutriScore=e, ecoScore=d, ecoScoreValue=), ProductDetail(code=8001505005707, label=Nocciolata, ingredientsText=, ingredientsTextFr=, genericName=, imageUrl=https://images.openfoodfacts.org/images/products/800/150/500/5707/front_fr.152.400.jpg, nutriScore=d, ecoScore=c, ecoScoreValue=), ProductDetail(code=3017620421006, label=Pâte à tartiner Nutella noisettes et cacao - 750g, ingredientsText=, ingredientsTextFr=, genericName=, imageUrl=https://images.openfoodfacts.org/images/products/301/762/042/1006/front_en.250.400.jpg, nutriScore=e, ecoScore=d, ecoScoreValue=), ProductDetail(code=8001505003529, label=Nocciolata Bio, ingredientsText=, ingredientsTextFr=, genericName=, imageUrl=https://images.openfoodfacts.org/images/products/800/150/500/3529/front.21.400.jpg, nutriScore=d, ecoScore=c, ecoScoreValue=), ProductDetail(code=3664346312936, label=Pâte à tartiner, ingredientsText=, ingredientsTextFr=, genericName=, imageUrl=https://images.openfoodfacts.org/images/products/366/434/631/2936/front_fr.38.400.jpg, nutriScore=d, ecoScore=c, ecoScoreValue=), ProductDetail(code=3478820023184, label=Pâte à tartiner chocolat noisette, ingredientsText=, ingredientsTextFr=, genericName=, imageUrl=https://images.openfoodfacts.org/images/products/347/882/002/3184/front_en.173.400.jpg, nutriScore=d, ecoScore=c, ecoScoreValue=), ProductDetail(code=3017620420702, label=Nutella pâte à tartiner aux noisettes et au cacao 800g, ingredientsText=, ingredientsTextFr=, genericName=, imageUrl=, nutriScore=e, ecoScore=c, ecoScoreValue=), ProductDetail(code=8001505000061, label=Nocciolata sans lait, ingredientsText=, ingredientsTextFr=, genericName=, imageUrl=https://images.openfoodfacts.org/images/products/800/150/500/0061/front_fr.100.400.jpg, nutriScore=d, ecoScore=c, ecoScoreValue=), ProductDetail(code=7622201515447, label=Pâte à tartiner Milka aux noisettes, ingredientsText=, ingredientsTextFr=, genericName=, imageUrl=https://images.openfoodfacts.org/images/products/762/220/151/5447/front_en.34.400.jpg, nutriScore=d, ecoScore=d, ecoScoreValue=), ProductDetail(code=3330720237361, label=Pâte à tartiner noisette du Lot et Garonne cacao, ingredientsText=, ingredientsTextFr=, genericName=, imageUrl=, nutriScore=e, ecoScore=c, ecoScoreValue=), ProductDetail(code=80176800, label=Nutella, ingredientsText=, ingredientsTextFr=, genericName=, imageUrl=https://images.openfoodfacts.org/images/products/80176800/front_en.142.400.jpg, nutriScore=e, ecoScore=d, ecoScoreValue=), ProductDetail(code=3770008009653, label=Ouf! La pâte à tartiner, ingredientsText=, ingredientsTextFr=, genericName=, imageUrl=https://images.openfoodfacts.org/images/products/377/000/800/9653/front_en.72.400.jpg, nutriScore=b, ecoScore=c, ecoScoreValue=), ProductDetail(code=3560070472888, label=Pâte à tartiner, ingredientsText=, ingredientsTextFr=, genericName=, imageUrl=https://images.openfoodfacts.org/images/products/356/007/047/2888/front.10.400.jpg, nutriScore=d, ecoScore=c, ecoScoreValue=), ProductDetail(code=3760020500658, label=Pâte à tartiner Chocolat Noisette, ingredientsText=, ingredientsTextFr=, genericName=, imageUrl=https://images.openfoodfacts.org/images/products/376/002/050/0658/front_en.111.400.jpg, nutriScore=d, ecoScore=c, ecoScoreValue=), ProductDetail(code=3608580065371, label=Pâte à tartiner noisettes et cacao, ingredientsText=, ingredientsTextFr=, genericName=, imageUrl=https://images.openfoodfacts.org/images/products/360/858/006/5371/front_fr.3.400.jpg, nutriScore=d, ecoScore=c, ecoScoreValue=), ProductDetail(code=8000500223369, label=Biscuits Nutella B-ready x15 gaufrettes fourrées - 330g, ingredientsText=, ingredientsTextFr=, genericName=, imageUrl=https://images.openfoodfacts.org/images/products/800/050/022/3369/front_fr.107.400.jpg, nutriScore=e, ecoScore=d, ecoScoreValue=), ProductDetail(code=3330720237255, label=Pâte à tartiner Bio, ingredientsText=, ingredientsTextFr=, genericName=, imageUrl=, nutriScore=e, ecoScore=c, ecoScoreValue=), ProductDetail(code=20968663, label=Pâte à tartiner cacao noisette, ingredientsText=, ingredientsTextFr=, genericName=, imageUrl=https://images.openfoodfacts.org/images/products/20968663/front_en.62.400.jpg, nutriScore=e, ecoScore=c, ecoScoreValue=), ProductDetail(code=8001505002799, label=Nocciolata, ingredientsText=, ingredientsTextFr=, genericName=, imageUrl=https://images.openfoodfacts.org/images/products/800/150/500/2799/front_fr.80.400.jpg, nutriScore=d, ecoScore=c, ecoScoreValue=), ProductDetail(code=3330720237378, label=Pâte à tartiner bio sans huile de palme, ingredientsText=, ingredientsTextFr=, genericName=, imageUrl=https://images.openfoodfacts.org/images/products/333/072/023/7378/front_fr.86.400.jpg, nutriScore=e, ecoScore=c, ecoScoreValue=)]\n"
     ]
    },
    {
     "data": {
      "text/html": "<h2>Pâte à tartiner Nutella noisettes et cacao</h2><br><img src='https://images.openfoodfacts.org/images/products/301/762/042/2003/front_en.502.400.jpg'/><h2>Nutella</h2><br><img src='https://images.openfoodfacts.org/images/products/301/762/042/5035/front_en.397.400.jpg'/><h2>Nocciolata Pâte à tartiner au cacao et noisettes</h2><br><img src='https://images.openfoodfacts.org/images/products/800/150/500/5592/front_fr.133.400.jpg'/><h2>Pâte à tartiner noisettes et cacao</h2><br><img src='https://images.openfoodfacts.org/images/products/360/858/006/5340/front_fr.8.400.jpg'/><h2>Pâte à tartiner Nutella noisettes et cacao - 825g</h2><br><img src='https://images.openfoodfacts.org/images/products/301/762/042/9484/front_en.341.400.jpg'/><h2>Nocciolata</h2><br><img src='https://images.openfoodfacts.org/images/products/800/150/500/5707/front_fr.152.400.jpg'/><h2>Pâte à tartiner Nutella noisettes et cacao - 750g</h2><br><img src='https://images.openfoodfacts.org/images/products/301/762/042/1006/front_en.250.400.jpg'/><h2>Nocciolata Bio</h2><br><img src='https://images.openfoodfacts.org/images/products/800/150/500/3529/front.21.400.jpg'/><h2>Pâte à tartiner</h2><br><img src='https://images.openfoodfacts.org/images/products/366/434/631/2936/front_fr.38.400.jpg'/><h2>Pâte à tartiner chocolat noisette</h2><br><img src='https://images.openfoodfacts.org/images/products/347/882/002/3184/front_en.173.400.jpg'/><h2>Nutella pâte à tartiner aux noisettes et au cacao 800g</h2><br><h2>Nocciolata sans lait</h2><br><img src='https://images.openfoodfacts.org/images/products/800/150/500/0061/front_fr.100.400.jpg'/><h2>Pâte à tartiner Milka aux noisettes</h2><br><img src='https://images.openfoodfacts.org/images/products/762/220/151/5447/front_en.34.400.jpg'/><h2>Pâte à tartiner noisette du Lot et Garonne cacao</h2><br><h2>Nutella</h2><br><img src='https://images.openfoodfacts.org/images/products/80176800/front_en.142.400.jpg'/><h2>Ouf! La pâte à tartiner</h2><br><img src='https://images.openfoodfacts.org/images/products/377/000/800/9653/front_en.72.400.jpg'/><h2>Pâte à tartiner</h2><br><img src='https://images.openfoodfacts.org/images/products/356/007/047/2888/front.10.400.jpg'/><h2>Pâte à tartiner Chocolat Noisette</h2><br><img src='https://images.openfoodfacts.org/images/products/376/002/050/0658/front_en.111.400.jpg'/><h2>Pâte à tartiner noisettes et cacao</h2><br><img src='https://images.openfoodfacts.org/images/products/360/858/006/5371/front_fr.3.400.jpg'/><h2>Biscuits Nutella B-ready x15 gaufrettes fourrées - 330g</h2><br><img src='https://images.openfoodfacts.org/images/products/800/050/022/3369/front_fr.107.400.jpg'/><h2>Pâte à tartiner Bio</h2><br><h2>Pâte à tartiner cacao noisette</h2><br><img src='https://images.openfoodfacts.org/images/products/20968663/front_en.62.400.jpg'/><h2>Nocciolata</h2><br><img src='https://images.openfoodfacts.org/images/products/800/150/500/2799/front_fr.80.400.jpg'/><h2>Pâte à tartiner bio sans huile de palme</h2><br><img src='https://images.openfoodfacts.org/images/products/333/072/023/7378/front_fr.86.400.jpg'/>"
     },
     "execution_count": 34,
     "metadata": {},
     "output_type": "execute_result"
    }
   ],
   "source": [
    "import kotlinx.coroutines.runBlocking\n",
    "\n",
    "// Exemple de recherche :\n",
    "runBlocking {\n",
    "    val search = \"pate à tartiner noisette\"\n",
    "    val nutriScoreApp = NutriScoreApp()\n",
    "    val searchResult = nutriScoreApp.searchProducts(search)\n",
    "    println(searchResult)\n",
    "\n",
    "    var searchResultToDisplay: String = \"\"\n",
    "    searchResult.forEach {\n",
    "        searchResultToDisplay += \"<h2>${it.label}</h2><br>\" +\n",
    "        if (it.imageUrl.isNotEmpty()) \"<img src='${it.imageUrl}'/>\" else \"\"\n",
    "    }\n",
    "    HTML(searchResultToDisplay)\n",
    "}"
   ],
   "metadata": {
    "collapsed": false,
    "ExecuteTime": {
     "start_time": "2023-04-21T17:41:00.509774Z",
     "end_time": "2023-04-21T17:41:01.012218Z"
    }
   }
  },
  {
   "cell_type": "code",
   "execution_count": 43,
   "outputs": [
    {
     "data": {
      "text/html": "   <div id=\"KlJ3HR\"></div>\n   <script type=\"text/javascript\" data-lets-plot-script=\"library\">\n       if(!window.letsPlotCallQueue) {\n           window.letsPlotCallQueue = [];\n       }; \n       window.letsPlotCall = function(f) {\n           window.letsPlotCallQueue.push(f);\n       };\n       (function() {\n           var script = document.createElement(\"script\");\n           script.type = \"text/javascript\";\n           script.src = \"https://cdn.jsdelivr.net/gh/JetBrains/lets-plot@v3.0.0/js-package/distr/lets-plot.min.js\";\n           script.onload = function() {\n               window.letsPlotCall = function(f) {f();};\n               window.letsPlotCallQueue.forEach(function(f) {f();});\n               window.letsPlotCallQueue = [];\n               \n               \n           };\n           script.onerror = function(event) {\n               window.letsPlotCall = function(f) {};\n               window.letsPlotCallQueue = [];\n               var div = document.createElement(\"div\");\n               div.style.color = 'darkred';\n               div.textContent = 'Error loading Lets-Plot JS';\n               document.getElementById(\"KlJ3HR\").appendChild(div);\n           };\n           var e = document.getElementById(\"KlJ3HR\");\n           e.appendChild(script);\n       })();\n   </script>"
     },
     "metadata": {},
     "output_type": "display_data"
    }
   ],
   "source": [
    "%use lets-plot\n",
    "%use krangl\n"
   ],
   "metadata": {
    "collapsed": false,
    "ExecuteTime": {
     "start_time": "2023-04-21T17:45:57.010979Z",
     "end_time": "2023-04-21T17:46:00.987131Z"
    }
   }
  },
  {
   "cell_type": "code",
   "execution_count": 46,
   "outputs": [
    {
     "data": {
      "text/html": "<html><body><table><tr><th style=\"text-align:left\">count</th><th style=\"text-align:left\">page</th><th style=\"text-align:left\">page_count</th><th style=\"text-align:left\">page_size</th><th style=\"text-align:left\">skip</th><th style=\"text-align:left\">additives_tags</th><th style=\"text-align:left\">allergens_tags</th><th style=\"text-align:left\">brands</th><th style=\"text-align:left\">code</th><th style=\"text-align:left\">ecoscore_grade</th><th style=\"text-align:left\">image_url</th><th style=\"text-align:left\">ingredients_from_palm_oil_n</th><th style=\"text-align:left\">nova_groups</th><th style=\"text-align:left\">nutriments</th><th style=\"text-align:left\">nutrition_grade_fr</th><th style=\"text-align:left\">product_name</th><th style=\"text-align:left\">product_name_fr</th><th style=\"text-align:left\">quantity</th><th style=\"text-align:left\">selected_images</th></tr><tr><td style=\"text-align:left\" title=\"1604\">1604</td><td style=\"text-align:left\" title=\"1\">1</td><td style=\"text-align:left\" title=\"24\">24</td><td style=\"text-align:left\" title=\"24\">24</td><td style=\"text-align:left\" title=\"0\">0</td><td style=\"text-align:left\" title=\"JsonArray(value=[en:e322])\">JsonArray(value=[en:e322])</td><td style=\"text-align:left\" title=\"JsonArray(value=[en:milk, en:nuts, en:soybeans])\">JsonArray(value=[en:milk, en:nuts, en:soybeans])</td><td style=\"text-align:left\" title=\"Ferrero\">Ferrero</td><td style=\"text-align:left\" title=\"3017620422003\">3017620422003</td><td style=\"text-align:left\" title=\"d\">d</td><td style=\"text-align:left\" title=\"https://images.openfoodfacts.org/images/products/301/762/042/2003/front_en.502.400.jpg\">https://images.openfoodfacts.org/images/product...</td><td style=\"text-align:left\" title=\"0\">0</td><td style=\"text-align:left\" title=\"4\">4</td><td style=\"text-align:left\" title=\"alcohol,alcohol_100g,alcohol_serving,alcohol_unit,alcohol_value,carbohydrates,carbohydrates_100g,carbohydrates_serving,carbohydrates_unit,carbohydrates_value,carbon-footprint-from-known-ingredients_product,carbon-footprint-from-known-ingredients_serving,energy,energy-kcal,energy-kcal_100g,energy-kcal_serving,energy-kcal_unit,energy-kcal_value,energy-kcal_value_computed,energy-kj,energy-kj_100g,energy-kj_serving,energy-kj_unit,energy-kj_value,energy-kj_value_computed,energy_100g,energy_serving,energy_unit,energy_value,fat,fat_100g,fat_serving,fat_unit,fat_value,fruits-vegetables-nuts-estimate-from-ingredients_100g,fruits-vegetables-nuts-estimate-from-ingredients_serving,nova-group,nova-group_100g,nova-group_serving,nutrition-score-fr,nutrition-score-fr_100g,proteins,proteins_100g,proteins_serving,proteins_unit,proteins_value,salt,salt_100g,salt_serving,salt_unit,salt_value,saturated-fat,saturated-fat_100g,saturated-fat_serving,saturated-fat_unit,saturated-fat_value,sodium,sodium_100g,sodium_serving,sodium_unit,sodium_value,sugars,sugars_100g,sugars_serving,sugars_unit,sugars_value\">alcohol,alcohol_100g,alcohol_serving,alcohol_un...</td><td style=\"text-align:left\" title=\"e\">e</td><td style=\"text-align:left\" title=\"Nutella\">Nutella</td><td style=\"text-align:left\" title=\"Pâte à tartiner Nutella noisettes et cacao\">Pâte à tartiner Nutella noisettes et cacao</td><td style=\"text-align:left\" title=\"400 g\">400 g</td><td style=\"text-align:left\" title=\"front,ingredients,nutrition,packaging\">front,ingredients,nutrition,packaging</td></tr><tr><td style=\"text-align:left\" title=\"1604\">1604</td><td style=\"text-align:left\" title=\"1\">1</td><td style=\"text-align:left\" title=\"24\">24</td><td style=\"text-align:left\" title=\"24\">24</td><td style=\"text-align:left\" title=\"0\">0</td><td style=\"text-align:left\" title=\"JsonArray(value=[en:e322])\">JsonArray(value=[en:e322])</td><td style=\"text-align:left\" title=\"JsonArray(value=[en:milk, en:nuts, en:soybeans])\">JsonArray(value=[en:milk, en:nuts, en:soybeans])</td><td style=\"text-align:left\" title=\"Ferrero\">Ferrero</td><td style=\"text-align:left\" title=\"3017620425035\">3017620425035</td><td style=\"text-align:left\" title=\"d\">d</td><td style=\"text-align:left\" title=\"https://images.openfoodfacts.org/images/products/301/762/042/5035/front_en.397.400.jpg\">https://images.openfoodfacts.org/images/product...</td><td style=\"text-align:left\" title=\"0\">0</td><td style=\"text-align:left\" title=\"4\">4</td><td style=\"text-align:left\" title=\"carbohydrates,carbohydrates_100g,carbohydrates_serving,carbohydrates_unit,carbohydrates_value,carbon-footprint-from-known-ingredients_product,carbon-footprint-from-known-ingredients_serving,energy,energy-kcal,energy-kcal_100g,energy-kcal_serving,energy-kcal_unit,energy-kcal_value,energy-kcal_value_computed,energy-kj,energy-kj_100g,energy-kj_serving,energy-kj_unit,energy-kj_value,energy-kj_value_computed,energy_100g,energy_serving,energy_unit,energy_value,fat,fat_100g,fat_serving,fat_unit,fat_value,fiber,fiber_100g,fiber_serving,fiber_unit,fiber_value,fruits-vegetables-nuts-estimate-from-ingredients_100g,fruits-vegetables-nuts-estimate-from-ingredients_serving,nova-group,nova-group_100g,nova-group_serving,nutrition-score-fr,nutrition-score-fr_100g,proteins,proteins_100g,proteins_serving,proteins_unit,proteins_value,salt,salt_100g,salt_serving,salt_unit,salt_value,saturated-fat,saturated-fat_100g,saturated-fat_serving,saturated-fat_unit,saturated-fat_value,sodium,sodium_100g,sodium_serving,sodium_unit,sodium_value,sugars,sugars_100g,sugars_serving,sugars_unit,sugars_value\">carbohydrates,carbohydrates_100g,carbohydrates_...</td><td style=\"text-align:left\" title=\"e\">e</td><td style=\"text-align:left\" title=\"Nutella\">Nutella</td><td style=\"text-align:left\" title=\"Nutella\">Nutella</td><td style=\"text-align:left\" title=\"1 kg\">1 kg</td><td style=\"text-align:left\" title=\"front,ingredients,nutrition,packaging\">front,ingredients,nutrition,packaging</td></tr><tr><td style=\"text-align:left\" title=\"1604\">1604</td><td style=\"text-align:left\" title=\"1\">1</td><td style=\"text-align:left\" title=\"24\">24</td><td style=\"text-align:left\" title=\"24\">24</td><td style=\"text-align:left\" title=\"0\">0</td><td style=\"text-align:left\" title=\"JsonArray(value=[en:e322, en:e322i])\">JsonArray(value=[en:e322, en:e322i])</td><td style=\"text-align:left\" title=\"JsonArray(value=[en:milk, en:nuts, en:soybeans])\">JsonArray(value=[en:milk, en:nuts, en:soybeans])</td><td style=\"text-align:left\" title=\"Rigoni di Asiago\">Rigoni di Asiago</td><td style=\"text-align:left\" title=\"8001505005592\">8001505005592</td><td style=\"text-align:left\" title=\"c\">c</td><td style=\"text-align:left\" title=\"https://images.openfoodfacts.org/images/products/800/150/500/5592/front_fr.133.400.jpg\">https://images.openfoodfacts.org/images/product...</td><td style=\"text-align:left\" title=\"0\">0</td><td style=\"text-align:left\" title=\"4\">4</td><td style=\"text-align:left\" title=\"carbohydrates,carbohydrates_100g,carbohydrates_serving,carbohydrates_unit,carbohydrates_value,cocoa,cocoa_100g,cocoa_label,cocoa_serving,cocoa_unit,cocoa_value,energy,energy-kcal,energy-kcal_100g,energy-kcal_serving,energy-kcal_unit,energy-kcal_value,energy-kcal_value_computed,energy-kj,energy-kj_100g,energy-kj_serving,energy-kj_unit,energy-kj_value,energy-kj_value_computed,energy_100g,energy_serving,energy_unit,energy_value,fat,fat_100g,fat_serving,fat_unit,fat_value,fiber,fiber_100g,fiber_serving,fiber_unit,fiber_value,fruits-vegetables-nuts-estimate-from-ingredients_100g,fruits-vegetables-nuts-estimate-from-ingredients_serving,nova-group,nova-group_100g,nova-group_serving,nutrition-score-fr,nutrition-score-fr_100g,proteins,proteins_100g,proteins_serving,proteins_unit,proteins_value,salt,salt_100g,salt_serving,salt_unit,salt_value,saturated-fat,saturated-fat_100g,saturated-fat_serving,saturated-fat_unit,saturated-fat_value,sodium,sodium_100g,sodium_serving,sodium_unit,sodium_value,sugars,sugars_100g,sugars_serving,sugars_unit,sugars_value\">carbohydrates,carbohydrates_100g,carbohydrates_...</td><td style=\"text-align:left\" title=\"d\">d</td><td style=\"text-align:left\" title=\"Nocciolata Pâte à tartiner au cacao et noisettes\">Nocciolata Pâte à tartiner au cacao et noisettes</td><td style=\"text-align:left\" title=\"Nocciolata Pâte à tartiner au cacao et noisettes\">Nocciolata Pâte à tartiner au cacao et noisettes</td><td style=\"text-align:left\" title=\"270 g\">270 g</td><td style=\"text-align:left\" title=\"front,ingredients,nutrition\">front,ingredients,nutrition</td></tr></table><p>Shape: 3 x 19. \n</p></body></html>"
     },
     "execution_count": 46,
     "metadata": {},
     "output_type": "execute_result"
    }
   ],
   "source": [
    "import kotlinx.coroutines.runBlocking\n",
    "\n",
    "// Exemple de\n",
    "runBlocking {\n",
    "    val search = \"pate à tartiner noisette\"\n",
    "    val nutriScoreApp = NutriScoreApp()\n",
    "    val searchResultJson: String = nutriScoreApp.searchProductsJson(search)\n",
    "\n",
    "    val df = DataFrame.fromJsonString(searchResultJson)\n",
    "    df.head(3)\n",
    "\n",
    "\n",
    "    /*val plotResult = letsPlot(searchResult)\n",
    "    searchResult.plot {\n",
    "\n",
    "    }*/\n",
    "\n",
    "}"
   ],
   "metadata": {
    "collapsed": false,
    "ExecuteTime": {
     "start_time": "2023-04-21T17:47:16.421626Z",
     "end_time": "2023-04-21T17:47:16.847906Z"
    }
   }
  },
  {
   "cell_type": "code",
   "execution_count": null,
   "outputs": [],
   "source": [],
   "metadata": {
    "collapsed": false
   }
  }
 ],
 "metadata": {
  "kernelspec": {
   "display_name": "Kotlin",
   "language": "kotlin",
   "name": "kotlin"
  },
  "language_info": {
   "name": "kotlin",
   "version": "1.8.0",
   "mimetype": "text/x-kotlin",
   "file_extension": ".kt",
   "pygments_lexer": "kotlin",
   "codemirror_mode": "text/x-kotlin",
   "nbconvert_exporter": ""
  }
 },
 "nbformat": 4,
 "nbformat_minor": 0
}
