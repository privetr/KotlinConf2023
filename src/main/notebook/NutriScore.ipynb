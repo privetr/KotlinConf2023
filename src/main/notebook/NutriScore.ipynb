{
 "cells": [
  {
   "cell_type": "code",
   "execution_count": 1,
   "metadata": {
    "collapsed": true,
    "ExecuteTime": {
     "start_time": "2023-04-21T17:12:32.548019Z",
     "end_time": "2023-04-21T17:12:33.563131Z"
    }
   },
   "outputs": [],
   "source": [
    "// Mes imports de librairies externes\n",
    "\n",
    "USE {\n",
    "    repositories {\n",
    "        //google()\n",
    "        // à exécuter en dehors du proxy sinon KO\n",
    "        mavenCentral()\n",
    "        //maven(\"https://artifactory.mycloud.intrabpce.fr/artifactory/g-android-maven-proxy/\")\n",
    "        //maven(\"https://artifactory.mycloud.intrabpce.fr/artifactory/maven-third-party-android-libs/\")\n",
    "    }\n",
    "    dependencies {\n",
    "        val ktor_version = \"2.2.4\"\n",
    "        implementation(\"io.ktor:ktor-client-apache-jvm:$ktor_version\")\n",
    "        implementation(\"io.ktor:ktor-serialization-kotlinx-json:$ktor_version\")\n",
    "    }\n",
    "}"
   ]
  },
  {
   "cell_type": "code",
   "execution_count": 2,
   "outputs": [
    {
     "data": {
      "text/plain": "<!doctype html><html itemscope=\"\" itemtype=\"http://schema.org/WebPage\" lang=\"fr\"><head><meta content=\"text/html; charset=UTF-8\" http-equiv=\"Content-Type\"><meta content=\"/images/branding/googleg/1x/googleg_standard_color_128dp.png\" itemprop=\"image\"><title>Google</title><script nonce=\"VCJlZq_LAplzI__5bOG2oA\">(function(){window.google={kEI:'4qdCZIPfMZqnkdUP2f-D8AU',kEXPI:'0,1303427,55982,6058,207,2414,2390,2316,383,246,5,1129120,1197728,163,380600,16114,28684,22430,1362,12316,17583,4998,13228,3847,36218,2226,2872,2891,3926,213,4210,4011,29843,30846,15757,3,576,20583,1,1,2,1528,2304,29062,13064,13659,21223,5812,2545,4094,7596,1,11943,30211,2,14022,6248,19491,5679,1020,31123,4568,6255,23421,1252,5835,14968,4332,7484,27082,8155,6682,699,15969,874,19633,7,1922,9779,8213,14695,13246,6305,2007,18191,5797,4,14432,20206,1622,6755,13129,5831,2306,2106,991,3030,6111,2460,765,8284,8229,1152,1091,269,2615,9481,3570,686,5589,415,2172,23,3585,1642,1406,2130,1330,529,1155,13,477,1155,1610,564,3627,2,2147,312,174,5254,171,583,156,389,777,2370,4196,1291,3079,1992,197,862,2297,794,346,172,463,128,1468,1016,2420,1006,729,916,123,834,230,2,729,764,47,179,534,109,219,107,942,613,229,1292,2295,3,8,28,48,79,131,4,20,407,4,911,106,214,109,28,244,51,520,92,486,408,154,117,255,253,180,669,2,105,2,10,39,495,124,1819,5206886,2,70,198,260,103,5995039,23,2803220,3311,141,795,19735,1,1,5354,7,76,2,2,6,24,7,8,1,18,3,4,41,55,27,18888900,5056296,4042142,18636,2894,6250,15740,1325,400,484,677,1412170,146987,23612605,15,523,134,554,848,39,569,86,1,975,80,2,337,8,691,2,350,1280,85,131,1486,644,2152',kBL:'WWhe',kOPI:89978449};google.sn='webhp';google.kHL='fr';})();(function(){\nvar e=this||self;var g,h=[];function k(a){for(var c;a&&(!a.getAttribute||!(c=a.getAttribute(\"eid\")));)a=a.parentNode;return c||g}function l(a){for(var c=null;a&&(!a.getAttribute||!(c=a.getAttribute(\"leid\")));)a=a.parentNode;return c}function m(a){/^http:/i.test(a)&&\"https:\"===window.location.protocol&&(google.ml&&google.ml(Error(\"a\"),!1,{src:a,glmm:1}),a=\"\");return a}\nfunction p(a,c,b,f){var d=\"\";-1===c.search(\"&ei=\")&&(d=\"&ei=\"+k(b),-1===c.search(\"&lei=\")&&(b=l(b))&&(d+=\"&lei=\"+b));b=\"\";e._cshid&&-1===c.search(\"&cshid=\")&&\"slh\"!==a&&(b=\"&cshid=\"+e._cshid);return\"/\"+(f||\"gen_204\")+\"?atyp=i&ct=\"+String(a)+\"&cad=\"+(c+d)+\"&zx=\"+String(Date.now())+b};g=google.kEI;google.getEI=k;google.getLEI=l;google.ml=function(){return null};google.log=function(a,c,b,f,d){b||(b=p(a,c,f,d));if(b=m(b)){a=new Image;var n=h.length;h[n]=a;a.onerror=a.onload=a.onabort=function(){delete h[n]};a.src=b}};google.logUrl=function(a){return p(\"\",a)};}).call(this);(function(){google.y={};google.sy=[];google.x=function(a,b){if(a)var c=a.id;else{do c=Math.random();while(google.y[c])}google.y[c]=[a,b];return!1};google.sx=function(a){google.sy.push(a)};google.lm=[];google.plm=function(a){google.lm.push.apply(google.lm,a)};google.lq=[];google.load=function(a,b,c){google.lq.push([[a],b,c])};google.loadAll=function(a,b){google.lq.push([a,b])};google.bx=!1;google.lx=function(){};}).call(this);google.f={};(function(){\ndocument.documentElement.addEventListener(\"submit\",function(b){var a;if(a=b.target){var c=a.getAttribute(\"data-submitfalse\");a=\"1\"===c||\"q\"===c&&!a.elements.q.value?!0:!1}else a=!1;a&&(b.preventDefault(),b.stopPropagation())},!0);document.documentElement.addEventListener(\"click\",function(b){var a;a:{for(a=b.target;a&&a!==document.documentElement;a=a.parentElement)if(\"A\"===a.tagName){a=\"1\"===a.getAttribute(\"data-nohref\");break a}a=!1}a&&b.preventDefault()},!0);}).call(this);</script><style>#gbar,#guser{font-size:13px;padding-top:1px !important;}#gbar{height:22px}#guser{padding-bottom:7px !important;text-align:right}.gbh,.gbd{border-top:1px solid #c9d7f1;font-size:1px}.gbh{height:0;position:absolute;top:24px;width:100%}@media all{.gb1{height:22px;margin-right:.5em;vertical-align:top}#gbar{float:left}}a.gb1,a.gb4{text-decoration:underline !important}a.gb1,a.gb4{color:#00c !important}.gbi .gb4{color:#dd8e27 !important}.gbf .gb4{color:#900 !important}\n</style><style>body,td,a,p,.h{font-family:arial,sans-serif}body{margin:0;overflow-y:scroll}#gog{padding:3px 8px 0}td{line-height:.8em}.gac_m td{line-height:17px}form{margin-bottom:20px}.h{color:#1558d6}em{font-weight:bold;font-style:normal}.lst{height:25px;width:496px}.gsfi,.lst{font:18px arial,sans-serif}.gsfs{font:17px arial,sans-serif}.ds{display:inline-box;display:inline-block;margin:3px 0 4px;margin-left:4px}input{font-family:inherit}body{background:#fff;color:#000}a{color:#4b11a8;text-decoration:none}a:hover,a:active{text-decoration:underline}.fl a{color:#1558d6}a:visited{color:#4b11a8}.sblc{padding-top:5px}.sblc a{display:block;margin:2px 0;margin-left:13px;font-size:11px}.lsbb{background:#f8f9fa;border:solid 1px;border-color:#dadce0 #70757a #70757a #dadce0;height:30px}.lsbb{display:block}#WqQANb a{display:inline-block;margin:0 12px}.lsb{background:url(/images/nav_logo229.png) 0 -261px repeat-x;border:none;color:#000;cursor:pointer;height:30px;margin:0;outline:0;font:15px arial,sans-serif;vertical-align:top}.lsb:active{background:#dadce0}.lst:focus{outline:none}</style><script nonce=\"VCJlZq_LAplzI__5bOG2oA\">(function(){window.google.erd={jsr:1,bv:1781,de:true};\nvar h=this||self;var k,l=null!=(k=h.mei)?k:1,n,p=null!=(n=h.sdo)?n:!0,q=0,r,t=google.erd,v=t.jsr;google.ml=function(a,b,d,m,e){e=void 0===e?2:e;b&&(r=a&&a.message);if(google.dl)return google.dl(a,e,d),null;if(0>v){window.console&&console.error(a,d);if(-2===v)throw a;b=!1}else b=!a||!a.message||\"Error loading script\"===a.message||q>=l&&!m?!1:!0;if(!b)return null;q++;d=d||{};b=encodeURIComponent;var c=\"/gen_204?atyp=i&ei=\"+b(google.kEI);google.kEXPI&&(c+=\"&jexpid=\"+b(google.kEXPI));c+=\"&srcpg=\"+b(google.sn)+\"&jsr=\"+b(t.jsr)+\"&bver=\"+b(t.bv);var f=a.lineNumber;void 0!==f&&(c+=\"&line=\"+f);var g=\na.fileName;g&&(0<g.indexOf(\"-extension:/\")&&(e=3),c+=\"&script=\"+b(g),f&&g===window.location.href&&(f=document.documentElement.outerHTML.split(\"\\n\")[f],c+=\"&cad=\"+b(f?f.substring(0,300):\"No script found.\")));c+=\"&jsel=\"+e;for(var u in d)c+=\"&\",c+=b(u),c+=\"=\",c+=b(d[u]);c=c+\"&emsg=\"+b(a.name+\": \"+a.message);c=c+\"&jsst=\"+b(a.stack||\"N/A\");12288<=c.length&&(c=c.substr(0,12288));a=c;m||google.log(0,\"\",a);return a};window.onerror=function(a,b,d,m,e){r!==a&&(a=e instanceof Error?e:Error(a),void 0===d||\"lineNumber\"in a||(a.lineNumber=d),void 0===b||\"fileName\"in a||(a.fileName=b),google.ml(a,!1,void 0,!1,\"SyntaxError\"===a.name||\"SyntaxError\"===a.message.substring(0,11)||-1!==a.message.indexOf(\"Script error\")?3:0));r=null;p&&q>=l&&(window.onerror=null)};})();</script></head><body bgcolor=\"#fff\"><script nonce=\"VCJlZq_LAplzI__5bOG2oA\">(function(){var src='/images/nav_logo229.png';var iesg=false;document.body.onload = function(){window.n && window.n();if (document.images){new Image().src=src;}\nif (!iesg){document.f&&document.f.q.focus();document.gbqf&&document.gbqf.q.focus();}\n}\n})();</script><div id=\"mngb\"><div id=gbar><nobr><b class=gb1>Recherche</b> <a class=gb1 href=\"https://www.google.fr/imghp?hl=fr&tab=wi\">Images</a> <a class=gb1 href=\"https://maps.google.fr/maps?hl=fr&tab=wl\">Maps</a> <a class=gb1 href=\"https://play.google.com/?hl=fr&tab=w8\">Play</a> <a class=gb1 href=\"https://www.youtube.com/?tab=w1\">YouTube</a> <a class=gb1 href=\"https://news.google.com/?tab=wn\">Actualités</a> <a class=gb1 href=\"https://mail.google.com/mail/?tab=wm\">Gmail</a> <a class=gb1 href=\"https://drive.google.com/?tab=wo\">Drive</a> <a class=gb1 style=\"text-decoration:none\" href=\"https://www.google.fr/intl/fr/about/products?tab=wh\"><u>Plus</u> &raquo;</a></nobr></div><div id=guser width=100%><nobr><span id=gbn class=gbi></span><span id=gbf class=gbf></span><span id=gbe></span><a href=\"http://www.google.fr/history/optout?hl=fr\" class=gb4>Historique Web</a> | <a  href=\"/preferences?hl=fr\" class=gb4>Paramètres</a> | <a target=_top id=gb_70 href=\"https://accounts.google.com/ServiceLogin?hl=fr&passive=true&continue=https://www.google.com/&ec=GAZAAQ\" class=gb4>Connexion</a></nobr></div><div class=gbh style=left:0></div><div class=gbh style=right:0></div></div><center><br clear=\"all\" id=\"lgpd\"><div id=\"lga\"><img alt=\"Google\" height=\"92\" src=\"/images/branding/googlelogo/1x/googlelogo_white_background_color_272x92dp.png\" style=\"padding:28px 0 14px\" width=\"272\" id=\"hplogo\"><br><br></div><form action=\"/search\" name=\"f\"><table cellpadding=\"0\" cellspacing=\"0\"><tr valign=\"top\"><td width=\"25%\">&nbsp;</td><td align=\"center\" nowrap=\"\"><input name=\"ie\" value=\"ISO-8859-1\" type=\"hidden\"><input value=\"fr\" name=\"hl\" type=\"hidden\"><input name=\"source\" type=\"hidden\" value=\"hp\"><input name=\"biw\" type=\"hidden\"><input name=\"bih\" type=\"hidden\"><div class=\"ds\" style=\"height:32px;margin:4px 0\"><input class=\"lst\" style=\"margin:0;padding:5px 8px 0 6px;vertical-align:top;color:#000\" autocomplete=\"off\" value=\"\" title=\"Recherche Google\" maxlength=\"2048\" name=\"q\" size=\"57\"></div><br style=\"line-height:0\"><span class=\"ds\"><span class=\"lsbb\"><input class=\"lsb\" value=\"Recherche Google\" name=\"btnG\" type=\"submit\"></span></span><span class=\"ds\"><span class=\"lsbb\"><input class=\"lsb\" id=\"tsuid_1\" value=\"J'ai de la chance\" name=\"btnI\" type=\"submit\"><script nonce=\"VCJlZq_LAplzI__5bOG2oA\">(function(){var id='tsuid_1';document.getElementById(id).onclick = function(){if (this.form.q.value){this.checked = 1;if (this.form.iflsig)this.form.iflsig.disabled = false;}\nelse top.location='/doodles/';};})();</script><input value=\"AOEireoAAAAAZEK18iBX03LTDdXSXK0PMFpjxIzAx7ve\" name=\"iflsig\" type=\"hidden\"></span></span></td><td class=\"fl sblc\" align=\"left\" nowrap=\"\" width=\"25%\"><a href=\"/advanced_search?hl=fr&amp;authuser=0\">Recherche avancée</a></td></tr></table><input id=\"gbv\" name=\"gbv\" type=\"hidden\" value=\"1\"><script nonce=\"VCJlZq_LAplzI__5bOG2oA\">(function(){var a,b=\"1\";if(document&&document.getElementById)if(\"undefined\"!=typeof XMLHttpRequest)b=\"2\";else if(\"undefined\"!=typeof ActiveXObject){var c,d,e=[\"MSXML2.XMLHTTP.6.0\",\"MSXML2.XMLHTTP.3.0\",\"MSXML2.XMLHTTP\",\"Microsoft.XMLHTTP\"];for(c=0;d=e[c++];)try{new ActiveXObject(d),b=\"2\"}catch(h){}}a=b;if(\"2\"==a&&-1==location.search.indexOf(\"&gbv=2\")){var f=google.gbvu,g=document.getElementById(\"gbv\");g&&(g.value=a);f&&window.setTimeout(function(){location.href=f},0)};}).call(this);</script></form><div id=\"gac_scont\"></div><div style=\"font-size:83%;min-height:3.5em\"><br></div><span id=\"footer\"><div style=\"font-size:10pt\"><div style=\"margin:19px auto;text-align:center\" id=\"WqQANb\"><a href=\"/intl/fr/ads/\">Publicité</a><a href=\"/services/\">Solutions d'entreprise</a><a href=\"/intl/fr/about.html\">À propos de Google</a><a href=\"https://www.google.com/setprefdomain?prefdom=FR&amp;prev=https://www.google.fr/&amp;sig=K_KsfYu5SxtazpkrZ3Q8pQC7Rhcws%3D\">Google.fr</a></div></div><p style=\"font-size:8pt;color:#70757a\">&copy; 2023 - <a href=\"/intl/fr/policies/privacy/\">Confidentialité</a> - <a href=\"/intl/fr/policies/terms/\">Conditions</a></p></span></center><script nonce=\"VCJlZq_LAplzI__5bOG2oA\">(function(){window.google.cdo={height:757,width:1440};(function(){var a=window.innerWidth,b=window.innerHeight;if(!a||!b){var c=window.document,d=\"CSS1Compat\"==c.compatMode?c.documentElement:c.body;a=d.clientWidth;b=d.clientHeight}a&&b&&(a!=google.cdo.width||b!=google.cdo.height)&&google.log(\"\",\"\",\"/client_204?&atyp=i&biw=\"+a+\"&bih=\"+b+\"&ei=\"+google.kEI);}).call(this);})();</script> <script nonce=\"VCJlZq_LAplzI__5bOG2oA\">(function(){google.xjs={ck:'xjs.hp.cZMjK1rN2dw.L.X.O',cs:'ACT90oHFjS-HMgXmgPRtFMe435uu5vXagw',excm:[]};})();</script>  <script nonce=\"VCJlZq_LAplzI__5bOG2oA\">(function(){var u='/xjs/_/js/k\\x3dxjs.hp.en.vByGn1c2edU.O/am\\x3dAAAAOgEAFABY/d\\x3d1/ed\\x3d1/rs\\x3dACT90oGuT8e8cKMoPQGVMedRSS0TboD2Mw/m\\x3dsb_he,d';var amd=0;\nvar e=this||self,f=function(c){return c};var h;var n=function(c,g){this.g=g===l?c:\"\"};n.prototype.toString=function(){return this.g+\"\"};var l={};\nfunction p(){var c=u,g=function(){};google.lx=google.stvsc?g:function(){google.timers&&google.timers.load&&google.tick&&google.tick(\"load\",\"xjsls\");var a=document;var b=\"SCRIPT\";\"application/xhtml+xml\"===a.contentType&&(b=b.toLowerCase());b=a.createElement(b);a=null===c?\"null\":void 0===c?\"undefined\":c;if(void 0===h){var d=null;var m=e.trustedTypes;if(m&&m.createPolicy){try{d=m.createPolicy(\"goog#html\",{createHTML:f,createScript:f,createScriptURL:f})}catch(r){e.console&&e.console.error(r.message)}h=\nd}else h=d}a=(d=h)?d.createScriptURL(a):a;a=new n(a,l);b.src=a instanceof n&&a.constructor===n?a.g:\"type_error:TrustedResourceUrl\";var k,q;(k=(a=null==(q=(k=(b.ownerDocument&&b.ownerDocument.defaultView||window).document).querySelector)?void 0:q.call(k,\"script[nonce]\"))?a.nonce||a.getAttribute(\"nonce\")||\"\":\"\")&&b.setAttribute(\"nonce\",k);document.body.appendChild(b);google.psa=!0;google.lx=g};google.bx||google.lx()};google.xjsu=u;e._F_jsUrl=u;setTimeout(function(){0<amd?google.caft(function(){return p()},amd):p()},0);})();window._ = window._ || {};window._DumpException = _._DumpException = function(e){throw e;};window._s = window._s || {};_s._DumpException = _._DumpException;window._qs = window._qs || {};_qs._DumpException = _._DumpException;function _F_installCss(c){}\n(function(){google.jl={blt:'none',chnk:0,dw:false,dwu:true,emtn:0,end:0,ico:false,ikb:0,ine:false,injs:'none',injt:0,injth:0,injv2:false,lls:'default',pdt:0,rep:0,snet:true,strt:0,ubm:false,uwp:true};})();(function(){var pmc='{\\x22d\\x22:{},\\x22sb_he\\x22:{\\x22agen\\x22:true,\\x22cgen\\x22:true,\\x22client\\x22:\\x22heirloom-hp\\x22,\\x22dh\\x22:true,\\x22ds\\x22:\\x22\\x22,\\x22fl\\x22:true,\\x22host\\x22:\\x22google.com\\x22,\\x22jsonp\\x22:true,\\x22lm\\x22:true,\\x22msgs\\x22:{\\x22cibl\\x22:\\x22Effacer la recherche\\x22,\\x22dym\\x22:\\x22Essayez avec cette orthographe :\\x22,\\x22lcky\\x22:\\x22J\\\\u0026#39;ai de la chance\\x22,\\x22lml\\x22:\\x22En savoir plus\\x22,\\x22psrc\\x22:\\x22Cette suggestion a bien été supprimée de votre \\\\u003Ca href\\x3d\\\\\\x22/history\\\\\\x22\\\\u003Ehistorique Web\\\\u003C/a\\\\u003E.\\x22,\\x22psrl\\x22:\\x22Supprimer\\x22,\\x22sbit\\x22:\\x22Recherche par image\\x22,\\x22srch\\x22:\\x22Recherche Google\\x22},\\x22ovr\\x22:{},\\x22pq\\x22:\\x22\\x22,\\x22rfs\\x22:[],\\x22sbas\\x22:\\x220 3px 8px 0 rgba(0,0,0,0.2),0 0 0 1px rgba(0,0,0,0.08)\\x22,\\x22stok\\x22:\\x22IedtdGcdgLMCgRx1YuprFjkGblY\\x22}}';google.pmc=JSON.parse(pmc);})();</script>       </body></html>"
     },
     "execution_count": 2,
     "metadata": {},
     "output_type": "execute_result"
    }
   ],
   "source": [
    "\n",
    "import io.ktor.client.*\n",
    "import io.ktor.client.request.*\n",
    "import io.ktor.client.statement.*\n",
    "import kotlinx.coroutines.runBlocking\n",
    "\n",
    "val client = HttpClient()\n",
    "runBlocking {\n",
    "    client.get(\"https://google.com\").bodyAsText()\n",
    " }"
   ],
   "metadata": {
    "collapsed": false,
    "ExecuteTime": {
     "start_time": "2023-04-21T17:12:33.538539Z",
     "end_time": "2023-04-21T17:12:34.863870Z"
    }
   }
  },
  {
   "cell_type": "code",
   "execution_count": 12,
   "outputs": [],
   "source": [
    "import io.ktor.client.engine.apache.*\n",
    "import io.ktor.client.*\n",
    "import io.ktor.client.plugins.*\n",
    "import io.ktor.client.request.*\n",
    "import io.ktor.client.statement.*\n",
    "import io.ktor.http.*\n",
    "import kotlinx.serialization.SerialName\n",
    "import kotlinx.serialization.Serializable\n",
    "import kotlinx.serialization.decodeFromString\n",
    "import kotlinx.serialization.json.Json\n",
    "\n",
    "@Serializable\n",
    "data class SearchProductList(\n",
    "    @SerialName(\"products\") val products: List<ProductDetail>? = null\n",
    ")\n",
    "\n",
    "@Serializable\n",
    "data class Product(\n",
    "    @SerialName(\"code\") val productId: String? = null,\n",
    "    @SerialName(\"product\") val productDetail: ProductDetail? = null,\n",
    ")\n",
    "\n",
    "@Serializable\n",
    "data class ProductDetail(\n",
    "    @SerialName(\"code\") val code: String = \"\",\n",
    "    @SerialName(\"product_name_fr\") val label: String = \"\",\n",
    "    @SerialName(\"ingredients_text\") val ingredientsText: String = \"\",\n",
    "    @SerialName(\"ingredients_text_fr\") val ingredientsTextFr: String = \"\",\n",
    "    @SerialName(\"generic_name_fr\") val genericName: String = \"\",\n",
    "    @SerialName(\"image_url\") val imageUrl: String = \"\",\n",
    "    @SerialName(\"nutrition_grade_fr\") val nutriScore: String = \"\",\n",
    "    @SerialName(\"ecoscore_grade\") val ecoScore: String = \"\",\n",
    "    @SerialName(\"ecoscore_score\") val ecoScoreValue: String = \"\"\n",
    ")\n",
    "\n",
    "class NutriScoreApp() {\n",
    "    val jsonFormatter = Json { ignoreUnknownKeys = true }\n",
    "\n",
    "    suspend fun getProduct(productId: String): Product {\n",
    "        val client = getHttpClient()\n",
    "        val getProductUrl = \"https://fr.openfoodfacts.org/api/v0/produit/$productId.json\"\n",
    "        val productText = client.get(getProductUrl + FIELDS).bodyAsText()\n",
    "        val product: Product = jsonFormatter.decodeFromString(productText)\n",
    "        client.close()\n",
    "        return product\n",
    "    }\n",
    "\n",
    "    suspend fun searchProducts(search: String): List<ProductDetail> {\n",
    "        val client = getHttpClient()\n",
    "        val searchProductUrl = \"https://ssl-api.openfoodfacts.org/cgi/search.pl?search_simple=1&amp;json=1&amp;action=process&amp;sort_by=unique_scans_n\"\n",
    "        val extraParams = \"&amp;search_terms=${search.encodeURLPath()}&amp;page=1\"\n",
    "        val searchText = client.get(searchProductUrl + FIELDS + extraParams).bodyAsText()\n",
    "        val searchResult: SearchProductList = jsonFormatter.decodeFromString(searchText)\n",
    "        client.close()\n",
    "        return searchResult.products.orEmpty()\n",
    "    }\n",
    "\n",
    "    private fun getHttpClient() = HttpClient {\n",
    "            install(HttpTimeout) {\n",
    "                requestTimeoutMillis = 30000\n",
    "            }\n",
    "        }\n",
    "\n",
    "    companion object {\n",
    "        const val FIELDS = \"&amp;fields=selected_images,image_url,product_name,brands,quantity,code,nutrition_grade_fr,ecoscore_grade,product_name_fr,nova_groups,allergens_tags,additives_tags,ingredients_from_palm_oil_n,carbon-footprint-from-known-ingredients_product,carbon-footprint-from-meat-or-fish_product,nutriments\"\n",
    "    }\n",
    "}"
   ],
   "metadata": {
    "collapsed": false,
    "ExecuteTime": {
     "start_time": "2023-04-21T17:17:20.203312Z",
     "end_time": "2023-04-21T17:17:20.766773Z"
    }
   }
  },
  {
   "cell_type": "code",
   "execution_count": 16,
   "outputs": [
    {
     "data": {
      "text/html": "<h2>Sablé saveur Citron Yuzu au Maltitol</h2><br><img src='https://images.openfoodfacts.org/images/products/317/568/113/4935/front_fr.73.400.jpg'/>"
     },
     "execution_count": 16,
     "metadata": {},
     "output_type": "execute_result"
    }
   ],
   "source": [
    "import kotlinx.coroutines.runBlocking\n",
    "\n",
    "// Exemple de produit :\n",
    "// Gâteaux au chocolat : 3175681134935\n",
    "runBlocking {\n",
    "    val nutriScoreApp = NutriScoreApp()\n",
    "    val product = nutriScoreApp.getProduct(\"3175681134935\")\n",
    "    HTML(\n",
    "        \"<h2>${product.productDetail?.label}</h2><br>\" +\n",
    "                \"<img src='${product.productDetail?.imageUrl}'/>\"\n",
    "    )\n",
    "}\n"
   ],
   "metadata": {
    "collapsed": false,
    "ExecuteTime": {
     "start_time": "2023-04-21T17:20:47.652811Z",
     "end_time": "2023-04-21T17:20:47.921408Z"
    }
   }
  },
  {
   "cell_type": "code",
   "execution_count": 27,
   "outputs": [
    {
     "data": {
      "text/html": "<h2>Pâte à tartiner Nutella noisettes et cacao</h2><br><img src='https://images.openfoodfacts.org/images/products/301/762/042/2003/front_en.502.400.jpg'/><h2>Nutella</h2><br><img src='https://images.openfoodfacts.org/images/products/301/762/042/5035/front_en.397.400.jpg'/><h2>Nocciolata Pâte à tartiner au cacao et noisettes</h2><br><img src='https://images.openfoodfacts.org/images/products/800/150/500/5592/front_fr.133.400.jpg'/><h2>Pâte à tartiner noisettes et cacao</h2><br><img src='https://images.openfoodfacts.org/images/products/360/858/006/5340/front_fr.8.400.jpg'/><h2>Pâte à tartiner Nutella noisettes et cacao - 825g</h2><br><img src='https://images.openfoodfacts.org/images/products/301/762/042/9484/front_en.341.400.jpg'/><h2>Nocciolata</h2><br><img src='https://images.openfoodfacts.org/images/products/800/150/500/5707/front_fr.152.400.jpg'/><h2>Pâte à tartiner Nutella noisettes et cacao - 750g</h2><br><img src='https://images.openfoodfacts.org/images/products/301/762/042/1006/front_en.250.400.jpg'/><h2>Nocciolata Bio</h2><br><img src='https://images.openfoodfacts.org/images/products/800/150/500/3529/front.21.400.jpg'/><h2>Pâte à tartiner</h2><br><img src='https://images.openfoodfacts.org/images/products/366/434/631/2936/front_fr.38.400.jpg'/><h2>Pâte à tartiner chocolat noisette</h2><br><img src='https://images.openfoodfacts.org/images/products/347/882/002/3184/front_en.173.400.jpg'/><h2>Nutella pâte à tartiner aux noisettes et au cacao 800g</h2><br><h2>Nocciolata sans lait</h2><br><img src='https://images.openfoodfacts.org/images/products/800/150/500/0061/front_fr.100.400.jpg'/><h2>Pâte à tartiner Milka aux noisettes</h2><br><img src='https://images.openfoodfacts.org/images/products/762/220/151/5447/front_en.34.400.jpg'/><h2>Pâte à tartiner noisette du Lot et Garonne cacao</h2><br><h2>Nutella</h2><br><img src='https://images.openfoodfacts.org/images/products/80176800/front_en.142.400.jpg'/><h2>Ouf! La pâte à tartiner</h2><br><img src='https://images.openfoodfacts.org/images/products/377/000/800/9653/front_en.72.400.jpg'/><h2>Pâte à tartiner</h2><br><img src='https://images.openfoodfacts.org/images/products/356/007/047/2888/front.10.400.jpg'/><h2>Pâte à tartiner Chocolat Noisette</h2><br><img src='https://images.openfoodfacts.org/images/products/376/002/050/0658/front_en.111.400.jpg'/><h2>Pâte à tartiner noisettes et cacao</h2><br><img src='https://images.openfoodfacts.org/images/products/360/858/006/5371/front_fr.3.400.jpg'/><h2>Biscuits Nutella B-ready x15 gaufrettes fourrées - 330g</h2><br><img src='https://images.openfoodfacts.org/images/products/800/050/022/3369/front_fr.107.400.jpg'/><h2>Pâte à tartiner Bio</h2><br><h2>Pâte à tartiner cacao noisette</h2><br><img src='https://images.openfoodfacts.org/images/products/20968663/front_en.62.400.jpg'/><h2>Nocciolata</h2><br><img src='https://images.openfoodfacts.org/images/products/800/150/500/2799/front_fr.80.400.jpg'/><h2>Pâte à tartiner bio sans huile de palme</h2><br><img src='https://images.openfoodfacts.org/images/products/333/072/023/7378/front_fr.86.400.jpg'/>"
     },
     "execution_count": 27,
     "metadata": {},
     "output_type": "execute_result"
    }
   ],
   "source": [
    "import kotlinx.coroutines.runBlocking\n",
    "\n",
    "// Exemple de recherche :\n",
    "runBlocking {\n",
    "    val search = \"pate à tartiner noisette\"\n",
    "    val nutriScoreApp = NutriScoreApp()\n",
    "    val searchResult = nutriScoreApp.searchProducts(search)\n",
    "\n",
    "    var searchResultToDisplay: String = \"\"\n",
    "    searchResult.forEach {\n",
    "        searchResultToDisplay += \"<h2>${it.label}</h2><br>\" +\n",
    "        if (it.imageUrl.isNotEmpty()) \"<img src='${it.imageUrl}'/>\" else \"\"\n",
    "    }\n",
    "    HTML(searchResultToDisplay)\n",
    "}"
   ],
   "metadata": {
    "collapsed": false,
    "ExecuteTime": {
     "start_time": "2023-04-21T17:27:42.572131Z",
     "end_time": "2023-04-21T17:27:43.007558Z"
    }
   }
  },
  {
   "cell_type": "code",
   "execution_count": 6,
   "outputs": [],
   "source": [],
   "metadata": {
    "collapsed": false
   }
  }
 ],
 "metadata": {
  "kernelspec": {
   "display_name": "Kotlin",
   "language": "kotlin",
   "name": "kotlin"
  },
  "language_info": {
   "name": "kotlin",
   "version": "1.8.0",
   "mimetype": "text/x-kotlin",
   "file_extension": ".kt",
   "pygments_lexer": "kotlin",
   "codemirror_mode": "text/x-kotlin",
   "nbconvert_exporter": ""
  }
 },
 "nbformat": 4,
 "nbformat_minor": 0
}
