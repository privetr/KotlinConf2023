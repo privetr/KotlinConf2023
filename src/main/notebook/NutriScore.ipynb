{
 "cells": [
  {
   "cell_type": "code",
   "execution_count": 1,
   "metadata": {
    "collapsed": true,
    "ExecuteTime": {
     "start_time": "2023-04-21T17:09:08.546559Z",
     "end_time": "2023-04-21T17:09:09.731045Z"
    }
   },
   "outputs": [],
   "source": [
    "// Mes imports de librairies externes\n",
    "\n",
    "USE {\n",
    "    repositories {\n",
    "        //google()\n",
    "        // à exécuter en dehors du proxy sinon KO\n",
    "        mavenCentral()\n",
    "        //maven(\"https://artifactory.mycloud.intrabpce.fr/artifactory/g-android-maven-proxy/\")\n",
    "        //maven(\"https://artifactory.mycloud.intrabpce.fr/artifactory/maven-third-party-android-libs/\")\n",
    "    }\n",
    "    dependencies {\n",
    "        val ktor_version = \"2.2.4\"\n",
    "        implementation(\"io.ktor:ktor-client-apache-jvm:$ktor_version\")\n",
    "        implementation(\"io.ktor:ktor-serialization-kotlinx-json:$ktor_version\")\n",
    "    }\n",
    "}"
   ]
  },
  {
   "cell_type": "code",
   "execution_count": null,
   "outputs": [],
   "source": [
    "\n",
    "import io.ktor.client.*\n",
    "import io.ktor.client.request.*\n",
    "import io.ktor.client.statement.*\n",
    "import kotlinx.coroutines.runBlocking\n",
    "\n",
    "val client = HttpClient()\n",
    "runBlocking {\n",
    "    client.get(\"https://google.com\").bodyAsText()\n",
    " }"
   ],
   "metadata": {
    "collapsed": false,
    "pycharm": {
     "is_executing": true
    }
   }
  },
  {
   "cell_type": "code",
   "execution_count": 6,
   "outputs": [],
   "source": [
    "import io.ktor.client.engine.apache.*\n",
    "import io.ktor.client.*\n",
    "import io.ktor.client.request.*\n",
    "import io.ktor.client.statement.*\n",
    "import io.ktor.http.*\n",
    "import kotlinx.serialization.SerialName\n",
    "import kotlinx.serialization.Serializable\n",
    "import kotlinx.serialization.decodeFromString\n",
    "import kotlinx.serialization.json.Json\n",
    "\n",
    "@Serializable\n",
    "data class SearchProductList(\n",
    "    @SerialName(\"products\") val products: List<ProductDetail>? = null\n",
    ")\n",
    "\n",
    "@Serializable\n",
    "data class Product(\n",
    "    @SerialName(\"code\") val productId: String? = null,\n",
    "    @SerialName(\"product\") val productDetail: ProductDetail? = null,\n",
    ")\n",
    "\n",
    "@Serializable\n",
    "data class ProductDetail(\n",
    "    @SerialName(\"code\") val code: String = \"\",\n",
    "    @SerialName(\"product_name_fr\") val label: String = \"\",\n",
    "    @SerialName(\"ingredients_text\") val ingredientsText: String = \"\",\n",
    "    @SerialName(\"ingredients_text_fr\") val ingredientsTextFr: String = \"\",\n",
    "    @SerialName(\"generic_name_fr\") val genericName: String = \"\",\n",
    "    @SerialName(\"image_url\") val imageUrl: String = \"\",\n",
    "    @SerialName(\"nutrition_grade_fr\") val nutriScore: String = \"\",\n",
    "    @SerialName(\"ecoscore_grade\") val ecoScore: String = \"\",\n",
    "    @SerialName(\"ecoscore_score\") val ecoScoreValue: String = \"\"\n",
    ")\n",
    "\n",
    "class NutriScoreApp() {\n",
    "    val jsonFormatter = Json { ignoreUnknownKeys = true }\n",
    "\n",
    "    suspend fun getProduct(productId: String): Product {\n",
    "        val client = HttpClient()\n",
    "        val getProductUrl = \"https://fr.openfoodfacts.org/api/v0/produit/$productId.json\"\n",
    "        val productText = client.get(getProductUrl + FIELDS).bodyAsText()\n",
    "        val product: Product = jsonFormatter.decodeFromString(productText)\n",
    "        client.close()\n",
    "        return product\n",
    "    }\n",
    "\n",
    "    suspend fun searchProducts(search: String): List<ProductDetail> {\n",
    "        val client = HttpClient()\n",
    "        val searchProductUrl = \"https://ssl-api.openfoodfacts.org/cgi/search.pl?search_simple=1&amp;json=1&amp;action=process&amp;sort_by=unique_scans_n\"\n",
    "        val extraParams = \"&amp;search_terms=${search.encodeURLPath()}&amp;page=1\"\n",
    "        val searchText = client.get(searchProductUrl + FIELDS + extraParams).bodyAsText()\n",
    "        val products: List<ProductDetail> = jsonFormatter.decodeFromString(searchText)\n",
    "        client.close()\n",
    "        return products\n",
    "    }\n",
    "\n",
    "    companion object {\n",
    "        const val FIELDS = \"&amp;fields=selected_images,image_url,product_name,brands,quantity,code,nutrition_grade_fr,ecoscore_grade,product_name_fr,nova_groups,allergens_tags,additives_tags,ingredients_from_palm_oil_n,carbon-footprint-from-known-ingredients_product,carbon-footprint-from-meat-or-fish_product,nutriments\"\n",
    "    }\n",
    "}"
   ],
   "metadata": {
    "collapsed": false,
    "ExecuteTime": {
     "start_time": "2023-04-21T17:10:26.278860Z",
     "end_time": "2023-04-21T17:10:26.726341Z"
    }
   }
  },
  {
   "cell_type": "code",
   "execution_count": 7,
   "outputs": [
    {
     "data": {
      "text/plain": "Product(productId=3175681134935, productDetail=ProductDetail(code=3175681134935, label=Sablé saveur Citron Yuzu au Maltitol, ingredientsText=, ingredientsTextFr=, genericName=, imageUrl=https://images.openfoodfacts.org/images/products/317/568/113/4935/front_fr.73.400.jpg, nutriScore=a, ecoScore=c, ecoScoreValue=))"
     },
     "execution_count": 7,
     "metadata": {},
     "output_type": "execute_result"
    }
   ],
   "source": [
    "import kotlinx.coroutines.runBlocking\n",
    "\n",
    "// Exemple de produit :\n",
    "// Gâteaux au chocolat : 3175681134935\n",
    "runBlocking {\n",
    "    val nutriScoreApp = NutriScoreApp()\n",
    "    nutriScoreApp.getProduct(\"3175681134935\")\n",
    " }\n"
   ],
   "metadata": {
    "collapsed": false,
    "ExecuteTime": {
     "start_time": "2023-04-21T17:10:27.915824Z",
     "end_time": "2023-04-21T17:10:28.161428Z"
    }
   }
  },
  {
   "cell_type": "code",
   "execution_count": 8,
   "outputs": [
    {
     "name": "stderr",
     "output_type": "stream",
     "text": [
      "Expected start of the array '[', but had 'EOF' instead at path: $\n",
      "JSON input: .....cts/333/072/023/7378/nutrition_fr.74.100.jpg\"}}}}],\"skip\":0}\n",
      "kotlinx.serialization.json.internal.JsonDecodingException: Expected start of the array '[', but had 'EOF' instead at path: $\n",
      "JSON input: .....cts/333/072/023/7378/nutrition_fr.74.100.jpg\"}}}}],\"skip\":0}\n",
      "\tat kotlinx.serialization.json.internal.JsonExceptionsKt.JsonDecodingException(JsonExceptions.kt:24)\n",
      "\tat kotlinx.serialization.json.internal.JsonExceptionsKt.JsonDecodingException(JsonExceptions.kt:32)\n",
      "\tat kotlinx.serialization.json.internal.AbstractJsonLexer.fail(AbstractJsonLexer.kt:530)\n",
      "\tat kotlinx.serialization.json.internal.AbstractJsonLexer.fail$default(AbstractJsonLexer.kt:528)\n",
      "\tat kotlinx.serialization.json.internal.AbstractJsonLexer.fail$kotlinx_serialization_json(AbstractJsonLexer.kt:224)\n",
      "\tat kotlinx.serialization.json.internal.AbstractJsonLexer.unexpectedToken(AbstractJsonLexer.kt:207)\n",
      "\tat kotlinx.serialization.json.internal.StringJsonLexer.consumeNextToken(StringJsonLexer.kt:74)\n",
      "\tat kotlinx.serialization.json.internal.StreamingJsonDecoder.beginStructure(StreamingJsonDecoder.kt:97)\n",
      "\tat kotlinx.serialization.internal.AbstractCollectionSerializer.merge(CollectionSerializers.kt:29)\n",
      "\tat kotlinx.serialization.internal.AbstractCollectionSerializer.deserialize(CollectionSerializers.kt:43)\n",
      "\tat kotlinx.serialization.json.internal.StreamingJsonDecoder.decodeSerializableValue(StreamingJsonDecoder.kt:70)\n",
      "\tat kotlinx.serialization.json.Json.decodeFromString(Json.kt:95)\n",
      "\tat Line_8_jupyter$NutriScoreApp.searchProducts(Line_8.jupyter.kts:84)\n",
      "\tat Line_8_jupyter$NutriScoreApp$searchProducts$1.invokeSuspend(Line_8.jupyter.kts)\n",
      "\tat kotlin.coroutines.jvm.internal.BaseContinuationImpl.resumeWith(ContinuationImpl.kt:33)\n",
      "\tat kotlinx.coroutines.DispatchedTask.run(DispatchedTask.kt:106)\n",
      "\tat kotlinx.coroutines.EventLoopImplBase.processNextEvent(EventLoop.common.kt:284)\n",
      "\tat kotlinx.coroutines.BlockingCoroutine.joinBlocking(Builders.kt:85)\n",
      "\tat kotlinx.coroutines.BuildersKt__BuildersKt.runBlocking(Builders.kt:59)\n",
      "\tat kotlinx.coroutines.BuildersKt.runBlocking(Unknown Source)\n",
      "\tat kotlinx.coroutines.BuildersKt__BuildersKt.runBlocking$default(Builders.kt:38)\n",
      "\tat kotlinx.coroutines.BuildersKt.runBlocking$default(Unknown Source)\n",
      "\tat Line_10_jupyter.<init>(Line_10.jupyter.kts:5)\n",
      "\tat java.base/jdk.internal.reflect.NativeConstructorAccessorImpl.newInstance0(Native Method)\n",
      "\tat java.base/jdk.internal.reflect.NativeConstructorAccessorImpl.newInstance(NativeConstructorAccessorImpl.java:62)\n",
      "\tat java.base/jdk.internal.reflect.DelegatingConstructorAccessorImpl.newInstance(DelegatingConstructorAccessorImpl.java:45)\n",
      "\tat java.base/java.lang.reflect.Constructor.newInstance(Constructor.java:490)\n",
      "\tat kotlin.script.experimental.jvm.BasicJvmScriptEvaluator.evalWithConfigAndOtherScriptsResults(BasicJvmScriptEvaluator.kt:105)\n",
      "\tat kotlin.script.experimental.jvm.BasicJvmScriptEvaluator.invoke$suspendImpl(BasicJvmScriptEvaluator.kt:47)\n",
      "\tat kotlin.script.experimental.jvm.BasicJvmScriptEvaluator.invoke(BasicJvmScriptEvaluator.kt)\n",
      "\tat kotlin.script.experimental.jvm.BasicJvmReplEvaluator.eval(BasicJvmReplEvaluator.kt:49)\n",
      "\tat org.jetbrains.kotlinx.jupyter.repl.impl.InternalEvaluatorImpl$eval$resultWithDiagnostics$1.invokeSuspend(InternalEvaluatorImpl.kt:103)\n",
      "\tat kotlin.coroutines.jvm.internal.BaseContinuationImpl.resumeWith(ContinuationImpl.kt:33)\n",
      "\tat kotlinx.coroutines.DispatchedTask.run(DispatchedTask.kt:106)\n",
      "\tat kotlinx.coroutines.EventLoopImplBase.processNextEvent(EventLoop.common.kt:284)\n",
      "\tat kotlinx.coroutines.BlockingCoroutine.joinBlocking(Builders.kt:85)\n",
      "\tat kotlinx.coroutines.BuildersKt__BuildersKt.runBlocking(Builders.kt:59)\n",
      "\tat kotlinx.coroutines.BuildersKt.runBlocking(Unknown Source)\n",
      "\tat kotlinx.coroutines.BuildersKt__BuildersKt.runBlocking$default(Builders.kt:38)\n",
      "\tat kotlinx.coroutines.BuildersKt.runBlocking$default(Unknown Source)\n",
      "\tat org.jetbrains.kotlinx.jupyter.repl.impl.InternalEvaluatorImpl.eval(InternalEvaluatorImpl.kt:103)\n",
      "\tat org.jetbrains.kotlinx.jupyter.repl.impl.CellExecutorImpl$execute$1$result$1.invoke(CellExecutorImpl.kt:71)\n",
      "\tat org.jetbrains.kotlinx.jupyter.repl.impl.CellExecutorImpl$execute$1$result$1.invoke(CellExecutorImpl.kt:69)\n",
      "\tat org.jetbrains.kotlinx.jupyter.ReplForJupyterImpl.withHost(repl.kt:651)\n",
      "\tat org.jetbrains.kotlinx.jupyter.repl.impl.CellExecutorImpl.execute(CellExecutorImpl.kt:69)\n",
      "\tat org.jetbrains.kotlinx.jupyter.repl.CellExecutor$DefaultImpls.execute$default(CellExecutor.kt:15)\n",
      "\tat org.jetbrains.kotlinx.jupyter.ReplForJupyterImpl$evalEx$1.invoke(repl.kt:460)\n",
      "\tat org.jetbrains.kotlinx.jupyter.ReplForJupyterImpl$evalEx$1.invoke(repl.kt:449)\n",
      "\tat org.jetbrains.kotlinx.jupyter.ReplForJupyterImpl.withEvalContext(repl.kt:413)\n",
      "\tat org.jetbrains.kotlinx.jupyter.ReplForJupyterImpl.evalEx(repl.kt:449)\n",
      "\tat org.jetbrains.kotlinx.jupyter.ReplForJupyterImpl.eval(repl.kt:501)\n",
      "\tat org.jetbrains.kotlinx.jupyter.messaging.ProtocolKt$shellMessagesHandler$2$res$1.invoke(protocol.kt:318)\n",
      "\tat org.jetbrains.kotlinx.jupyter.messaging.ProtocolKt$shellMessagesHandler$2$res$1.invoke(protocol.kt:317)\n",
      "\tat org.jetbrains.kotlinx.jupyter.JupyterExecutorImpl$runExecution$execThread$1.invoke(execution.kt:33)\n",
      "\tat org.jetbrains.kotlinx.jupyter.JupyterExecutorImpl$runExecution$execThread$1.invoke(execution.kt:31)\n",
      "\tat kotlin.concurrent.ThreadsKt$thread$thread$1.run(Thread.kt:30)\n"
     ]
    }
   ],
   "source": [
    "import kotlinx.coroutines.runBlocking\n",
    "\n",
    "// Exemple de recherche :\n",
    "runBlocking {\n",
    "    val search = \"pate à tartiner noisette\"\n",
    "    val nutriScoreApp = NutriScoreApp()\n",
    "    nutriScoreApp.searchProducts(search)\n",
    " }"
   ],
   "metadata": {
    "collapsed": false
   }
  },
  {
   "cell_type": "code",
   "execution_count": null,
   "outputs": [],
   "source": [],
   "metadata": {
    "collapsed": false
   }
  }
 ],
 "metadata": {
  "kernelspec": {
   "display_name": "Kotlin",
   "language": "kotlin",
   "name": "kotlin"
  },
  "language_info": {
   "name": "kotlin",
   "version": "1.8.0",
   "mimetype": "text/x-kotlin",
   "file_extension": ".kt",
   "pygments_lexer": "kotlin",
   "codemirror_mode": "text/x-kotlin",
   "nbconvert_exporter": ""
  }
 },
 "nbformat": 4,
 "nbformat_minor": 0
}
