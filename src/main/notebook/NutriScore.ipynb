{
 "cells": [
  {
   "cell_type": "code",
   "execution_count": null,
   "metadata": {
    "collapsed": true,
    "ExecuteTime": {
     "start_time": "2023-04-21T17:12:32.548019Z",
     "end_time": "2023-04-21T17:12:33.563131Z"
    }
   },
   "outputs": [],
   "source": [
    "// Mes imports de librairies externes\n",
    "\n",
    "USE {\n",
    "    repositories {\n",
    "        //google()\n",
    "        // à exécuter en dehors du proxy sinon KO\n",
    "        mavenCentral()\n",
    "        //maven(\"https://artifactory.mycloud.intrabpce.fr/artifactory/g-android-maven-proxy/\")\n",
    "        //maven(\"https://artifactory.mycloud.intrabpce.fr/artifactory/maven-third-party-android-libs/\")\n",
    "    }\n",
    "    dependencies {\n",
    "        val ktor_version = \"2.2.4\"\n",
    "        implementation(\"io.ktor:ktor-client-apache-jvm:$ktor_version\")\n",
    "        implementation(\"io.ktor:ktor-serialization-kotlinx-json:$ktor_version\")\n",
    "    }\n",
    "}"
   ]
  },
  {
   "cell_type": "code",
   "execution_count": null,
   "outputs": [],
   "source": [
    "\n",
    "import io.ktor.client.*\n",
    "import io.ktor.client.request.*\n",
    "import io.ktor.client.statement.*\n",
    "import kotlinx.coroutines.runBlocking\n",
    "\n",
    "val client = HttpClient()\n",
    "runBlocking {\n",
    "    client.get(\"https://google.com\").bodyAsText()\n",
    " }"
   ],
   "metadata": {
    "collapsed": false,
    "ExecuteTime": {
     "start_time": "2023-04-21T17:12:33.538539Z",
     "end_time": "2023-04-21T17:12:34.863870Z"
    }
   }
  },
  {
   "cell_type": "code",
   "execution_count": null,
   "outputs": [],
   "source": [
    "import io.ktor.client.engine.apache.*\n",
    "import io.ktor.client.*\n",
    "import io.ktor.client.plugins.*\n",
    "import io.ktor.client.request.*\n",
    "import io.ktor.client.statement.*\n",
    "import io.ktor.http.*\n",
    "import kotlinx.serialization.SerialName\n",
    "import kotlinx.serialization.Serializable\n",
    "import kotlinx.serialization.decodeFromString\n",
    "import kotlinx.serialization.json.Json\n",
    "\n",
    "@Serializable\n",
    "data class SearchProductList(\n",
    "    @SerialName(\"products\") val products: List<ProductDetail>? = null\n",
    ")\n",
    "\n",
    "@Serializable\n",
    "data class Product(\n",
    "    @SerialName(\"code\") val productId: String? = null,\n",
    "    @SerialName(\"product\") val productDetail: ProductDetail? = null,\n",
    ")\n",
    "\n",
    "@Serializable\n",
    "data class ProductDetail(\n",
    "    @SerialName(\"code\") val code: String = \"\",\n",
    "    @SerialName(\"product_name_fr\") val label: String = \"\",\n",
    "    @SerialName(\"ingredients_text\") val ingredientsText: String = \"\",\n",
    "    @SerialName(\"ingredients_text_fr\") val ingredientsTextFr: String = \"\",\n",
    "    @SerialName(\"generic_name_fr\") val genericName: String = \"\",\n",
    "    @SerialName(\"image_url\") val imageUrl: String = \"\",\n",
    "    @SerialName(\"nutrition_grade_fr\") val nutriScore: String = \"\",\n",
    "    @SerialName(\"ecoscore_grade\") val ecoScore: String = \"\",\n",
    "    @SerialName(\"ecoscore_score\") val ecoScoreValue: String = \"\"\n",
    ")\n",
    "\n",
    "class NutriScoreApp() {\n",
    "    val jsonFormatter = Json { ignoreUnknownKeys = true }\n",
    "\n",
    "    suspend fun getProduct(productId: String): Product {\n",
    "        val client = getHttpClient()\n",
    "        val getProductUrl = \"https://fr.openfoodfacts.org/api/v0/produit/$productId.json\"\n",
    "        val productText = client.get(getProductUrl + FIELDS).bodyAsText()\n",
    "        val product: Product = jsonFormatter.decodeFromString(productText)\n",
    "        client.close()\n",
    "        return product\n",
    "    }\n",
    "\n",
    "    suspend fun searchProductsJson(search: String): String {\n",
    "        val client = getHttpClient()\n",
    "        val searchProductUrl = \"https://ssl-api.openfoodfacts.org/cgi/search.pl?search_simple=1&amp;json=1&amp;action=process&amp;sort_by=unique_scans_n\"\n",
    "        val extraParams = \"&amp;search_terms=${search.encodeURLPath()}&amp;page=1\"\n",
    "        val searchText = client.get(searchProductUrl + FIELDS + extraParams).bodyAsText()\n",
    "        return searchText\n",
    "    }\n",
    "\n",
    "    suspend fun searchProducts(search: String): List<ProductDetail> {\n",
    "        val searchResult: SearchProductList = jsonFormatter.decodeFromString(searchProductsJson(search))\n",
    "        client.close()\n",
    "        return searchResult.products.orEmpty()\n",
    "    }\n",
    "\n",
    "    private fun getHttpClient() = HttpClient {\n",
    "            install(HttpTimeout) {\n",
    "                requestTimeoutMillis = 30000\n",
    "            }\n",
    "        }\n",
    "\n",
    "    companion object {\n",
    "        const val FIELDS = \"&amp;fields=selected_images,image_url,product_name,brands,quantity,code,nutrition_grade_fr,ecoscore_grade,product_name_fr,nova_groups,allergens_tags,additives_tags,ingredients_from_palm_oil_n,carbon-footprint-from-known-ingredients_product,carbon-footprint-from-meat-or-fish_product,nutriments\"\n",
    "    }\n",
    "}"
   ],
   "metadata": {
    "collapsed": false,
    "ExecuteTime": {
     "start_time": "2023-04-21T17:40:57.062903Z",
     "end_time": "2023-04-21T17:40:57.580641Z"
    }
   }
  },
  {
   "cell_type": "code",
   "execution_count": null,
   "outputs": [],
   "source": [
    "import kotlinx.coroutines.runBlocking\n",
    "\n",
    "// Exemple de produit :\n",
    "// Gâteaux au chocolat : 3175681134935\n",
    "runBlocking {\n",
    "    val nutriScoreApp = NutriScoreApp()\n",
    "    val product = nutriScoreApp.getProduct(\"3175681134935\")\n",
    "    HTML(\n",
    "        \"<h2>${product.productDetail?.label}</h2><br>\" +\n",
    "                \"<img src='${product.productDetail?.imageUrl}'/>\"\n",
    "    )\n",
    "}\n"
   ],
   "metadata": {
    "collapsed": false,
    "ExecuteTime": {
     "start_time": "2023-04-21T17:20:47.652811Z",
     "end_time": "2023-04-21T17:20:47.921408Z"
    }
   }
  },
  {
   "cell_type": "code",
   "execution_count": null,
   "outputs": [],
   "source": [
    "import kotlinx.coroutines.runBlocking\n",
    "\n",
    "// Exemple de recherche :\n",
    "runBlocking {\n",
    "    val search = \"pate à tartiner noisette\"\n",
    "    val nutriScoreApp = NutriScoreApp()\n",
    "    val searchResult = nutriScoreApp.searchProducts(search)\n",
    "    println(searchResult)\n",
    "\n",
    "    var searchResultToDisplay: String = \"\"\n",
    "    searchResult.forEach {\n",
    "        searchResultToDisplay += \"<h2>${it.label}</h2><br>\" +\n",
    "        if (it.imageUrl.isNotEmpty()) \"<img src='${it.imageUrl}'/>\" else \"\"\n",
    "    }\n",
    "    HTML(searchResultToDisplay)\n",
    "}"
   ],
   "metadata": {
    "collapsed": false,
    "ExecuteTime": {
     "start_time": "2023-04-21T17:41:00.509774Z",
     "end_time": "2023-04-21T17:41:01.012218Z"
    }
   }
  },
  {
   "cell_type": "code",
   "execution_count": 48,
   "outputs": [
    {
     "data": {
      "text/html": "   <div id=\"lXNs4E\"></div>\n   <script type=\"text/javascript\" data-lets-plot-script=\"library\">\n       if(!window.letsPlotCallQueue) {\n           window.letsPlotCallQueue = [];\n       }; \n       window.letsPlotCall = function(f) {\n           window.letsPlotCallQueue.push(f);\n       };\n       (function() {\n           var script = document.createElement(\"script\");\n           script.type = \"text/javascript\";\n           script.src = \"https://cdn.jsdelivr.net/gh/JetBrains/lets-plot@v3.1.0/js-package/distr/lets-plot.min.js\";\n           script.onload = function() {\n               window.letsPlotCall = function(f) {f();};\n               window.letsPlotCallQueue.forEach(function(f) {f();});\n               window.letsPlotCallQueue = [];\n               \n               \n           };\n           script.onerror = function(event) {\n               window.letsPlotCall = function(f) {};\n               window.letsPlotCallQueue = [];\n               var div = document.createElement(\"div\");\n               div.style.color = 'darkred';\n               div.textContent = 'Error loading Lets-Plot JS';\n               document.getElementById(\"lXNs4E\").appendChild(div);\n           };\n           var e = document.getElementById(\"lXNs4E\");\n           e.appendChild(script);\n       })();\n   </script>"
     },
     "metadata": {},
     "output_type": "display_data"
    }
   ],
   "source": [
    "%useLatestDescriptors\n",
    "%use lets-plot\n",
    "%use krangl\n"
   ],
   "metadata": {
    "collapsed": false,
    "ExecuteTime": {
     "start_time": "2023-04-21T17:50:37.985070Z",
     "end_time": "2023-04-21T17:50:45.037616Z"
    }
   }
  },
  {
   "cell_type": "code",
   "execution_count": null,
   "outputs": [],
   "source": [
    "import kotlinx.coroutines.runBlocking\n",
    "import krangl.util.colSelectAsNames\n",
    "\n",
    "// Exemple de\n",
    "runBlocking {\n",
    "    val search = \"pate à tartiner noisette\"\n",
    "    val nutriScoreApp = NutriScoreApp()\n",
    "    val searchResultJson: String = nutriScoreApp.searchProductsJson(search)\n",
    "\n",
    "    val df = DataFrame.fromJsonString(searchResultJson)\n",
    "    df.head(3)\n",
    "    //println(df.cols.get(9))\n",
    "\n",
    "    val ecoscores = df.cols.get(9).toStrings().sort()//listOf(\"a\", \"b\", \"c\", \"d\", \"e\") to df.cols.get(9).toStrings().sort()\n",
    "    val nutriscores = df.cols.get(14).toStrings().sort()//listOf(\"a\", \"b\", \"c\", \"d\", \"e\") to df.cols.get(14).toStrings().sort()\n",
    "    val names = df.cols.get(16)\n",
    "\n",
    "    val plotData = mapOf<String, Any>(\"x\" to ecoscores, \"y\" to nutriscores)\n",
    "\n",
    "    val plot = letsPlot(plotData) + geomPoint(\n",
    "        color = \"dark-green\",\n",
    "        size = 4.0\n",
    "    ) { x = \"x\"; y = \"y\" }\n",
    "    plot.show()\n",
    "\n",
    "    //val xNutriscore = df\n",
    "\n",
    "    /*df.letsPlot {\n",
    "\n",
    "     }*/\n",
    "\n",
    "\n",
    "    /*val plotResult = letsPlot(searchResult)\n",
    "    searchResult.plot {\n",
    "\n",
    "    }*/\n",
    "\n",
    "}"
   ],
   "metadata": {
    "collapsed": false,
    "ExecuteTime": {
     "start_time": "2023-04-21T18:10:13.683702Z",
     "end_time": "2023-04-21T18:10:14.194329Z"
    },
    "pycharm": {
     "is_executing": true
    }
   }
  },
  {
   "cell_type": "code",
   "execution_count": null,
   "outputs": [],
   "source": [],
   "metadata": {
    "collapsed": false
   }
  }
 ],
 "metadata": {
  "kernelspec": {
   "display_name": "Kotlin",
   "language": "kotlin",
   "name": "kotlin"
  },
  "language_info": {
   "name": "kotlin",
   "version": "1.8.0",
   "mimetype": "text/x-kotlin",
   "file_extension": ".kt",
   "pygments_lexer": "kotlin",
   "codemirror_mode": "text/x-kotlin",
   "nbconvert_exporter": ""
  }
 },
 "nbformat": 4,
 "nbformat_minor": 0
}
