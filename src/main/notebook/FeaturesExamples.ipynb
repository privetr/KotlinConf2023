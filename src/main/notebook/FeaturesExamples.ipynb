{
 "cells": [
  {
   "cell_type": "code",
   "execution_count": 1,
   "metadata": {
    "collapsed": true,
    "ExecuteTime": {
     "start_time": "2023-04-21T17:08:54.922077Z",
     "end_time": "2023-04-21T17:08:55.216496Z"
    }
   },
   "outputs": [
    {
     "name": "stdout",
     "output_type": "stream",
     "text": [
      "28\n"
     ]
    }
   ],
   "source": [
    "val test = 10\n",
    "val result = test + 18\n",
    "println(result)"
   ]
  },
  {
   "cell_type": "markdown",
   "source": [
    "# Mardown example\n",
    "* item 1\n",
    "* item 2"
   ],
   "metadata": {
    "collapsed": false
   }
  },
  {
   "cell_type": "code",
   "execution_count": 2,
   "outputs": [
    {
     "data": {
      "text/html": "<h3>Hoi Kotlin Conf 2023 !</h3>"
     },
     "execution_count": 2,
     "metadata": {},
     "output_type": "execute_result"
    }
   ],
   "source": [
    "HTML(\"<h3>Hoi Kotlin Conf 2023 !</h3>\")"
   ],
   "metadata": {
    "collapsed": false,
    "ExecuteTime": {
     "start_time": "2023-04-19T08:57:40.870560Z",
     "end_time": "2023-04-19T08:57:40.993686Z"
    }
   }
  },
  {
   "cell_type": "code",
   "execution_count": 2,
   "outputs": [
    {
     "data": {
      "text/html": "<img src='https://play-lh.googleusercontent.com/c_xQtp6B6Gyc-vLcHpBSJoKkP3Q3pr41QxQ4U0ATTpYcXCpGn9wHlzMDYRbd7sirS_M=w240-h480-rw'/>"
     },
     "execution_count": 2,
     "metadata": {},
     "output_type": "execute_result"
    }
   ],
   "source": [
    "HTML(\"<img src='https://play-lh.googleusercontent.com/c_xQtp6B6Gyc-vLcHpBSJoKkP3Q3pr41QxQ4U0ATTpYcXCpGn9wHlzMDYRbd7sirS_M=w240-h480-rw'/>\")\n"
   ],
   "metadata": {
    "collapsed": false,
    "ExecuteTime": {
     "start_time": "2023-04-21T17:08:58.720062Z",
     "end_time": "2023-04-21T17:08:58.842399Z"
    }
   }
  },
  {
   "cell_type": "code",
   "execution_count": null,
   "outputs": [],
   "source": [],
   "metadata": {
    "collapsed": false
   }
  }
 ],
 "metadata": {
  "kernelspec": {
   "display_name": "Kotlin",
   "language": "kotlin",
   "name": "kotlin"
  },
  "language_info": {
   "name": "kotlin",
   "version": "1.8.0",
   "mimetype": "text/x-kotlin",
   "file_extension": ".kt",
   "pygments_lexer": "kotlin",
   "codemirror_mode": "text/x-kotlin",
   "nbconvert_exporter": ""
  }
 },
 "nbformat": 4,
 "nbformat_minor": 0
}
